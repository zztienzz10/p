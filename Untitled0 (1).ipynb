{
  "nbformat": 4,
  "nbformat_minor": 0,
  "metadata": {
    "colab": {
      "provenance": []
    },
    "kernelspec": {
      "name": "python3",
      "display_name": "Python 3"
    },
    "language_info": {
      "name": "python"
    }
  },
  "cells": [
    {
      "cell_type": "code",
      "execution_count": null,
      "metadata": {
        "id": "PMjPLaQ9AWtF"
      },
      "outputs": [],
      "source": [
        "def pointsum(diemQT):\n",
        "    return sum(diemQT.values())\n",
        "\n",
        "def pointaverage(diemQT):\n",
        "    return sum(diemQT.values()) / len(diemQT)\n",
        "\n",
        "def pointMaxMin(diemQT):\n",
        "    diem_list = list(diemQT.values())\n",
        "    return [min(diem_list), max(diem_list)]\n",
        "\n",
        "def main():\n",
        "    DiemQT = {}\n",
        "    so_lan_nhap = 0\n",
        "    gioi_han_nhap = 3\n",
        "\n",
        "    while so_lan_nhap < gioi_han_nhap:\n",
        "        ten_diem = input(\"Nhập tên cột điểm ('exit' để thoát): \")\n",
        "\n",
        "        if ten_diem.lower() == 'exit':\n",
        "            break\n",
        "\n",
        "        try:\n",
        "            diem = float(input(\"Nhập số điểm: \"))\n",
        "            DiemQT[ten_diem] = diem\n",
        "            so_lan_nhap += 1\n",
        "        except ValueError:\n",
        "            print(\"Vui lòng nhập một số hợp lệ.\")\n",
        "\n",
        "    print(\"Tổng điểm:\", pointsum(DiemQT))\n",
        "    print(\"Điểm trung bình:\", pointaverage(DiemQT))\n",
        "    print(\"Điểm thấp nhất và cao nhất:\", pointMaxMin(DiemQT))\n",
        "\n",
        "if __name__ == \"__main__\":\n",
        "    main()\n"
      ]
    }
  ]
}